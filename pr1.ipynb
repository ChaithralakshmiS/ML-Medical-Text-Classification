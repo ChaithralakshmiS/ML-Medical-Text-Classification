{
 "cells": [
  {
   "cell_type": "code",
   "execution_count": 76,
   "metadata": {},
   "outputs": [],
   "source": [
    "#Import libraries\n",
    "import numpy as np\n",
    "import scipy as sp\n",
    "%matplotlib inline\n",
    "import matplotlib.pyplot as plt\n",
    "from scipy.sparse import csr_matrix\n",
    "from collections import defaultdict,Counter\n",
    "import nltk\n",
    "from nltk.corpus import stopwords\n",
    "import string\n",
    "import re\n",
    "from nltk.stem.porter import *\n",
    "from nltk import PorterStemmer\n"
   ]
  },
  {
   "cell_type": "code",
   "execution_count": 2,
   "metadata": {},
   "outputs": [],
   "source": [
    "# Drop words wit length<minlength\n",
    "def filterLen(docs, minlen):\n",
    "    return [ [t for t in d if len(t) >= minlen ] for d in docs ]\n"
   ]
  },
  {
   "cell_type": "code",
   "execution_count": null,
   "metadata": {},
   "outputs": [],
   "source": []
  },
  {
   "cell_type": "code",
   "execution_count": 3,
   "metadata": {},
   "outputs": [],
   "source": [
    "# Build sparse matrix from a list of document\n",
    "# each of which is a list of word/terms in the document.  \n",
    "\n",
    "def build_matrix(docs):\n",
    "    nrows = len(docs)\n",
    "    idx = {}\n",
    "    tid = 0\n",
    "    nnz = 0\n",
    "    for d in docs:\n",
    "        nnz += len(set(d))\n",
    "        for w in d:\n",
    "            if w not in idx:\n",
    "                idx[w] = tid\n",
    "                tid += 1\n",
    "    ncols = len(idx)\n",
    "        \n",
    "    # set up memory\n",
    "    ind = np.zeros(nnz, dtype=np.int)\n",
    "    val = np.zeros(nnz, dtype=np.double)\n",
    "    ptr = np.zeros(nrows+1, dtype=np.int)\n",
    "    i = 0  # document ID / row counter\n",
    "    n = 0  # non-zero counter\n",
    "    # transfer values\n",
    "    for d in docs:\n",
    "        cnt = Counter(d)\n",
    "        keys = list(k for k,_ in cnt.most_common())\n",
    "        l = len(keys)\n",
    "        for j,k in enumerate(keys):\n",
    "            ind[j+n] = idx[k]\n",
    "            val[j+n] = cnt[k]\n",
    "        ptr[i+1] = ptr[i] + l\n",
    "        n += l\n",
    "        i += 1\n",
    "            \n",
    "    mat = csr_matrix((val, ind, ptr), shape=(nrows, ncols), dtype=np.double)\n",
    "    mat.sort_indices()\n",
    "    \n",
    "    return mat\n",
    "\n"
   ]
  },
  {
   "cell_type": "code",
   "execution_count": 4,
   "metadata": {},
   "outputs": [],
   "source": [
    " #Print out info about this CSR matrix. If non_empy, \n",
    " #report number of non-empty rows and cols as well\n",
    "def csr_info(mat, name=\"\", non_empy=False):\n",
    " \n",
    "    if non_empy:\n",
    "        print(\"%s [nrows %d (%d non-empty), ncols %d (%d non-empty), nnz %d]\" % (\n",
    "                name, mat.shape[0], \n",
    "                sum(1 if mat.indptr[i+1] > mat.indptr[i] else 0 \n",
    "                for i in range(mat.shape[0])), \n",
    "                mat.shape[1], len(np.unique(mat.indices)), \n",
    "                len(mat.data)))\n",
    "    else:\n",
    "        print( \"%s [nrows %d, ncols %d, nnz %d]\" % (name, \n",
    "                mat.shape[0], mat.shape[1], len(mat.data)) )\n"
   ]
  },
  {
   "cell_type": "code",
   "execution_count": 5,
   "metadata": {},
   "outputs": [],
   "source": [
    " # Scale a CSR matrix by idf. \n",
    "   # Returns scaling factors as dict. If copy is True, \n",
    "    # returns scaled matrix and scaling factors.\n",
    "    \n",
    "def csr_idf(mat, copy=False, **kargs):\n",
    "   \n",
    "    if copy is True:\n",
    "        mat = mat.copy()\n",
    "    nrows = mat.shape[0]\n",
    "    nnz = mat.nnz\n",
    "    ind, val, ptr = mat.indices, mat.data, mat.indptr\n",
    "    # document frequency\n",
    "    df = defaultdict(int)\n",
    "    for i in ind:\n",
    "        df[i] += 1\n",
    "    # inverse document frequency\n",
    "    for k,v in df.items():\n",
    "        df[k] = np.log(nrows / float(v))  ## df turns to idf - reusing memory\n",
    "    # scale by idf\n",
    "    for i in range(0, nnz):\n",
    "        val[i] *= df[ind[i]]\n",
    "        \n",
    "    return df if copy is False else mat\n"
   ]
  },
  {
   "cell_type": "code",
   "execution_count": 6,
   "metadata": {},
   "outputs": [],
   "source": [
    " # Normalize the rows of a CSR matrix by their L-2 norm. \n",
    " #   If copy is True, returns a copy of the normalized matrix.\n",
    " #   \n",
    "def csr_l2normalize(mat, copy=False, **kargs):\n",
    "   \n",
    "    if copy is True:\n",
    "        mat = mat.copy()\n",
    "    nrows = mat.shape[0]\n",
    "    nnz = mat.nnz\n",
    "    ind, val, ptr = mat.indices, mat.data, mat.indptr\n",
    "    # normalize\n",
    "    for i in range(nrows):\n",
    "        rsum = 0.0    \n",
    "        for j in range(ptr[i], ptr[i+1]):\n",
    "            rsum += val[j]**2\n",
    "        if rsum == 0.0:\n",
    "            continue  # do not normalize empty rows\n",
    "        rsum = 1.0/np.sqrt(rsum)\n",
    "        for j in range(ptr[i], ptr[i+1]):\n",
    "            val[j] *= rsum\n",
    "            \n",
    "    if copy is True:\n",
    "        return mat\n"
   ]
  },
  {
   "cell_type": "code",
   "execution_count": 7,
   "metadata": {},
   "outputs": [
    {
     "data": {
      "text/latex": [
       "$$cos(\\mathbf{a}, \\mathbf{b}) = \\frac{\\langle \\mathbf{a}, \n",
       "          \\mathbf{b} \\rangle}{||\\mathbf{a}||\\ ||\\mathbf{b}||}$$"
      ],
      "text/plain": [
       "<IPython.core.display.Latex object>"
      ]
     },
     "metadata": {},
     "output_type": "display_data"
    }
   ],
   "source": [
    "%%latex\n",
    "$$cos(\\mathbf{a}, \\mathbf{b}) = \\frac{\\langle \\mathbf{a}, \n",
    "          \\mathbf{b} \\rangle}{||\\mathbf{a}||\\ ||\\mathbf{b}||}$$\n"
   ]
  },
  {
   "cell_type": "code",
   "execution_count": 81,
   "metadata": {},
   "outputs": [],
   "source": [
    "def cleanData(docs):\n",
    "    d2=docs\n",
    "\n",
    "    for i in range (0,len(docs)):\n",
    "        for j in range(0,len(docs[i])):\n",
    "            docs[i][j]=docs[i][j].lower()\n",
    "            docs[i][j]=docs[i][j].translate(str.maketrans('', '', string.punctuation))\n",
    "            regex = re.compile('[^a-zA-Z]')\n",
    "            docs[i][j]=regex.sub('', docs[i][j])\n",
    "            docs[i][j]=PorterStemmer().stem(docs[i][j])\n",
    "\n",
    "\n",
    "        docs[i] = [ x for x in docs[i] if x is not '' ]\n",
    "        \n",
    "\n",
    "        #docs[i]=docs[i].remove('')\n",
    "\n",
    "  \n",
    "    return docs"
   ]
  },
  {
   "cell_type": "code",
   "execution_count": 82,
   "metadata": {},
   "outputs": [
    {
     "name": "stdout",
     "output_type": "stream",
     "text": [
      "['catheter', 'laboratori', 'event', 'hospit', 'outcom', 'with', 'direct', 'angioplasti', 'acut', 'myocardi', 'infarct', 'assess', 'safeti', 'direct', 'infarct', 'angioplasti', 'without', 'anteced', 'thrombolyt', 'therapi', 'catheter', 'laboratori', 'hospit', 'event', 'were', 'assess', 'consecut', 'treat', 'patient', 'with', 'infarct', 'involv', 'left', 'anterior', 'descend', 'patient', 'right', 'circumflex', 'coronari', 'arteri', 'group', 'patient', 'were', 'similar', 'left', 'anterior', 'descend', 'coronari', 'arteri', 'year', 'right', 'coronari', 'arteri', 'year', 'circumflex', 'coronari', 'arteri', 'year', 'patient', 'with', 'multivessel', 'diseas', 'left', 'anterior', 'descend', 'coronari', 'arteri', 'right', 'coronari', 'arteri', 'circumflex', 'coronari', 'arteri', 'patient', 'with', 'initi', 'grade', 'antegrad', 'flow', 'left', 'anterior', 'descend', 'coronari', 'arteri', 'right', 'coronari', 'arteri', 'circumflex', 'coronari', 'arteri', 'cardiogen', 'shock', 'present', 'eight', 'patient', 'with', 'infarct', 'left', 'anterior', 'descend', 'coronari', 'arteri', 'four', 'with', 'infarct', 'right', 'coronari', 'arteri', 'four', 'with', 'infarct', 'circumflex', 'coronari', 'arteri', 'major', 'catheter', 'laboratori', 'event', 'cardiovers', 'cardiopulmonari', 'resuscit', 'dopamin', 'intraaort', 'balloon', 'pump', 'support', 'hypotens', 'urgent', 'surgeri', 'occur', 'patient', 'with', 'infarct', 'left', 'anterior', 'descend', 'coronari', 'arteri', 'eight', 'with', 'infarct', 'right', 'coronari', 'arteri', 'four', 'with', 'infarct', 'circumflex', 'coronari', 'arteri', 'shock', 'nonshock', 'patient', 'less', 'than', 'there', 'inlaboratori', 'death', 'shock', 'patient', 'with', 'infarct', 'left', 'anterior', 'descend', 'coronari', 'arteri'] ['use', 'automat', 'implant', 'cardiovert', 'defibril', 'improv', 'surviv', 'patient', 'with', 'sever', 'depress', 'left', 'ventricular', 'function', 'associ', 'with', 'coronari', 'arteri', 'diseas', 'clinic', 'outcom', 'analyz', 'among', 'group', 'consecut', 'patient', 'with', 'coronari', 'arteri', 'diseas', 'left', 'ventricular', 'lv', 'eject', 'fraction', 'less', 'than', 'arrhythmia', 'that', 'requir', 'automat', 'implant', 'cardiovert', 'defibril', 'aicd', 'attempt', 'better', 'defin', 'role', 'devic', 'patient', 'with', 'sever', 'depress', 'function', 'twentynin', 'were', 'survivor', 'outofhospit', 'cardiac', 'arrest', 'ventricular', 'tachycardia', 'that', 'refractori', 'electrophysiolog', 'guid', 'antiarrhythm', 'therapi', 'studi', 'group', 'follow', 'demograph', 'characterist', 'were', 'men', 'mean', 'year', 'rang', 'mean', 'eject', 'fraction', 'concomit', 'pharmacotherapi', 'includ', 'antiarrhythm', 'drug', 'vasodil', 'digoxin', 'there', 'statist', 'differ', 'baselin', 'characterist', 'between', 'survivor', 'nonsurvivor', 'patient', 'were', 'follow', 'mean', 'month', 'rang', 'from', 'implant', 'differ', 'between', 'actuari', 'surviv', 'year', 'yearsand', 'project', 'surviv', 'without', 'aicd', 'patient', 'surviv', 'without', 'appropri', 'devic', 'discharg', 'year', 'yearswa', 'signific', 'less', 'than', 'less', 'than', 'year', 'respect', 'thi', 'studi', 'suggest', 'that', 'aicd', 'improv', 'surviv', 'patient', 'with', 'coronari', 'arteri', 'diseas', 'despit', 'sever', 'depress', 'function']\n",
      " [nrows 28880, ncols 164630, nnz 3231359]\n",
      " [nrows 28880, ncols 49794, nnz 2092380]\n"
     ]
    }
   ],
   "source": [
    "# Read train and test data\n",
    "with open(\"train.dat\", \"r\") as fh:\n",
    "    lines_train = fh.readlines()\n",
    "#print(len(lines_train))\n",
    "\n",
    "with open(\"test.dat\", \"r\") as fh:\n",
    "    lines_test = fh.readlines()\n",
    "\n",
    "#Combine train and test data\n",
    "lines=lines_train+lines_test\n",
    "#print('No of training data : ',len(lines_train))\n",
    "#print('No of test data : ',len(lines_test))\n",
    "#print('No of Toatal data : ',len(lines))\n",
    "len_train= len(lines_train)\n",
    "len_test = len(lines_test)\n",
    "len_all=len(lines)\n",
    "#print(len_train,len_test,len_all)\n",
    "\n",
    "\n",
    "docs = [l.split() for l in lines]\n",
    "docs1 = filterLen(docs, 4)\n",
    "docs1 = cleanData(docs1)\n",
    "print(docs1[0],docs1[10])\n",
    "docs_train = [l.split() for l in lines_train]\n",
    "output_class = np.zeros(len(lines_train),dtype=np.float)\n",
    "for i in range(0, len(lines_train)):\n",
    "        output_class[i] = float(docs_train[i][0])\n",
    "        docs_train[i][0]=''\n",
    "    \n",
    "\n",
    "mat = build_matrix(docs)\n",
    "mat1 = build_matrix(docs1)\n",
    "csr_info(mat)\n",
    "csr_info(mat1)\n",
    "mat2 = csr_idf(mat1, copy=True)\n",
    "mat3 = csr_l2normalize(mat2, copy=True)"
   ]
  },
  {
   "cell_type": "code",
   "execution_count": null,
   "metadata": {},
   "outputs": [],
   "source": [
    "\n",
    "mat3_train=mat3[:len_train,:]\n",
    "mat3_test=mat3[len_train:,:]\n",
    "dots = mat3_test.dot(mat3_train.T)\n",
    "print(dots.shape)"
   ]
  },
  {
   "cell_type": "code",
   "execution_count": null,
   "metadata": {},
   "outputs": [],
   "source": [
    "def kNearestNeighbors(k=6):\n",
    "    for i in range(len_test):\n",
    "        sims=list(zip(dots[i].indices,dots[i].data))\n",
    "        sims.sort(key=lambda sims: sims[1], reverse=True)\n",
    "        outcls=[output_class[s[0]] for s in sims[:k] if s[1]>0]\n",
    "        maxCount=0\n",
    "        classOutput=0\n",
    "        count=[0,0,0,0,0,0]\n",
    "        class_test=[]\n",
    "        for i in range(k):\n",
    "            count[int(outcls[i])]=count[int(outcls[i])]+1\n",
    "        max_index=count.index(max(count))\n",
    "        file.writelines(str(count[max_index])+'\\n') \n",
    "        #print(count[max_index],'\\n')\n",
    "\n",
    "\n",
    "            #print(count,max_index,count[max_index])\n",
    "file = open('format2.dat','w') \n",
    "\n",
    "kNearestNeighbors()\n",
    "file.close()\n"
   ]
  },
  {
   "cell_type": "code",
   "execution_count": null,
   "metadata": {},
   "outputs": [],
   "source": []
  }
 ],
 "metadata": {
  "kernelspec": {
   "display_name": "Python 3",
   "language": "python",
   "name": "python3"
  },
  "language_info": {
   "codemirror_mode": {
    "name": "ipython",
    "version": 3
   },
   "file_extension": ".py",
   "mimetype": "text/x-python",
   "name": "python",
   "nbconvert_exporter": "python",
   "pygments_lexer": "ipython3",
   "version": "3.7.6"
  }
 },
 "nbformat": 4,
 "nbformat_minor": 2
}
